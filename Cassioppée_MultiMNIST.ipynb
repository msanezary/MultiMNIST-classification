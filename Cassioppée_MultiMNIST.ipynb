{
  "nbformat": 4,
  "nbformat_minor": 0,
  "metadata": {
    "colab": {
      "provenance": [],
      "gpuType": "T4",
      "include_colab_link": true
    },
    "kernelspec": {
      "name": "python3",
      "display_name": "Python 3"
    },
    "language_info": {
      "name": "python"
    },
    "accelerator": "GPU"
  },
  "cells": [
    {
      "cell_type": "markdown",
      "metadata": {
        "id": "view-in-github",
        "colab_type": "text"
      },
      "source": [
        "<a href=\"https://colab.research.google.com/github/msanezary/MultiMNIST-classification/blob/main/Cassiopp%C3%A9e_MultiMNIST.ipynb\" target=\"_parent\"><img src=\"https://colab.research.google.com/assets/colab-badge.svg\" alt=\"Open In Colab\"/></a>"
      ]
    },
    {
      "cell_type": "code",
      "execution_count": null,
      "metadata": {
        "id": "DYDhHrjVwSpC"
      },
      "outputs": [],
      "source": [
        "import pickle\n",
        "import matplotlib.pyplot as plt\n",
        "import numpy as np"
      ]
    },
    {
      "cell_type": "code",
      "source": [
        "# Load the dataset\n",
        "with open('multi_mnist.pickle', 'rb') as file:\n",
        "    dataset = pickle.load(file)"
      ],
      "metadata": {
        "id": "refJO-iWZBm0"
      },
      "execution_count": null,
      "outputs": []
    },
    {
      "cell_type": "code",
      "source": [
        "# Directly access and display the first image in the dataset to troubleshoot\n",
        "first_image = dataset[0][0]  # Assuming the first element of the first tuple is the image\n",
        "\n",
        "print(f'Shape of the first image: {first_image.shape}')  # Should print (36, 36)\n",
        "\n",
        "plt.imshow(first_image, cmap='gray')\n",
        "plt.title('First Image')\n",
        "plt.axis('off')\n",
        "plt.show()"
      ],
      "metadata": {
        "colab": {
          "base_uri": "https://localhost:8080/",
          "height": 446
        },
        "id": "PjI3albAdrZ-",
        "outputId": "7144a157-37b0-4508-857f-3c00a71af97c"
      },
      "execution_count": null,
      "outputs": [
        {
          "output_type": "stream",
          "name": "stdout",
          "text": [
            "Shape of the first image: (36, 36)\n"
          ]
        },
        {
          "output_type": "display_data",
          "data": {
            "text/plain": [
              "<Figure size 640x480 with 1 Axes>"
            ],
            "image/png": "[encoded data removed]"
          },
          "metadata": {}
        }
      ]
    },
    {
      "cell_type": "code",
      "source": [
        "# Function to inspect the dataset\n",
        "def inspect_dataset_structure(dataset):\n",
        "    for i, element in enumerate(dataset):\n",
        "        print(f'Element {i}:', type(element))\n",
        "        # Check if the element is a list or ndarray and print its length or shape\n",
        "        if isinstance(element, list):\n",
        "            print('Type of element:', type(element), 'Length:', len(element))\n",
        "        elif isinstance(element, np.ndarray):\n",
        "            print('Type of element:', type(element), 'Shape:', element.shape)\n",
        "        else:\n",
        "            print('Element is neither list nor ndarray. Type:', type(element))\n",
        "\n",
        "        # If the element is a list or ndarray, look deeper into its first item\n",
        "        if isinstance(element, (list, np.ndarray)) and len(element) > 0:\n",
        "            first_item = element[0]\n",
        "            print('Type of first item in element:', type(first_item))\n",
        "            if isinstance(first_item, np.ndarray):\n",
        "                print('Shape of first item in element:', first_item.shape)\n",
        "            else:\n",
        "                print('Content of first item in element:', first_item)\n",
        "\n",
        "        # Print a separator for readability\n",
        "        print('-' * 50)\n",
        "\n",
        "# Assuming 'dataset' is a variable holding your loaded dataset\n",
        "inspect_dataset_structure(dataset)"
      ],
      "metadata": {
        "colab": {
          "base_uri": "https://localhost:8080/"
        },
        "id": "qpbTLzwClMfM",
        "outputId": "be85cfd3-cfc6-4072-abda-af4552b99d3e"
      },
      "execution_count": null,
      "outputs": [
        {
          "output_type": "stream",
          "name": "stdout",
          "text": [
            "Element 0: <class 'numpy.ndarray'>\n",
            "Type of element: <class 'numpy.ndarray'> Shape: (120000, 36, 36)\n",
            "Type of first item in element: <class 'numpy.ndarray'>\n",
            "Shape of first item in element: (36, 36)\n",
            "--------------------------------------------------\n",
            "Element 1: <class 'numpy.ndarray'>\n",
            "Type of element: <class 'numpy.ndarray'> Shape: (120000, 2)\n",
            "Type of first item in element: <class 'numpy.ndarray'>\n",
            "Shape of first item in element: (2,)\n",
            "--------------------------------------------------\n",
            "Element 2: <class 'numpy.ndarray'>\n",
            "Type of element: <class 'numpy.ndarray'> Shape: (20000, 36, 36)\n",
            "Type of first item in element: <class 'numpy.ndarray'>\n",
            "Shape of first item in element: (36, 36)\n",
            "--------------------------------------------------\n",
            "Element 3: <class 'numpy.ndarray'>\n",
            "Type of element: <class 'numpy.ndarray'> Shape: (20000, 2)\n",
            "Type of first item in element: <class 'numpy.ndarray'>\n",
            "Shape of first item in element: (2,)\n",
            "--------------------------------------------------\n"
          ]
        }
      ]
    },
    {
      "cell_type": "code",
      "source": [
        "def show_images_and_labels(images, labels, num_images=9):\n",
        "    fig, axes = plt.subplots(3, 3, figsize=(10, 10))  # Adjust as necessary for num_images\n",
        "    axes = axes.flatten()\n",
        "\n",
        "    for i, ax in enumerate(axes):\n",
        "        if i >= num_images:\n",
        "            break  # Stop if we've reached the desired number of images\n",
        "        image = images[i].reshape(36, 36)  # Reshape if necessary\n",
        "        label = labels[i]  # Get the corresponding labels\n",
        "\n",
        "        ax.imshow(image, cmap='gray')\n",
        "        ax.set_title(f'Top-Left: {label[0]}, Bottom-Right: {label[1]}')\n",
        "        ax.axis('off')\n",
        "\n",
        "    plt.tight_layout()\n",
        "    plt.show()\n",
        "\n",
        "# Using the shapes provided to slice the dataset correctly\n",
        "# The first element (images) should be reshaped into individual images if necessary\n",
        "# The second element (labels) contains the labels corresponding to the images\n",
        "images = dataset[0].reshape(-1, 36, 36)  # Reshape the images for visualization if they are not already in this shape\n",
        "labels = dataset[1]  # Labels are already in the correct shape"
      ],
      "metadata": {
        "id": "rU1j0-jRmXsP"
      },
      "execution_count": null,
      "outputs": []
    },
    {
      "cell_type": "code",
      "source": [
        "show_images_and_labels(images, labels, num_images=9)"
      ],
      "metadata": {
        "colab": {
          "base_uri": "https://localhost:8080/",
          "height": 1000
        },
        "id": "02fF18shmZoL",
        "outputId": "597c04f3-5537-4233-d27e-af90f49faf34"
      },
      "execution_count": null,
      "outputs": [
        {
          "output_type": "display_data",
          "data": {
            "text/plain": [
              "<Figure size 1000x1000 with 9 Axes>"
            ],
            "image/png": "[encoded data removed]"
          },
          "metadata": {}
        }
      ]
    },
    {
      "cell_type": "code",
      "source": [
        "import torch\n",
        "from torch.utils.data import TensorDataset, DataLoader\n",
        "from torchvision.transforms import Compose, ToTensor, Normalize"
      ],
      "metadata": {
        "id": "eFBCpxywvrms"
      },
      "execution_count": null,
      "outputs": []
    },
    {
      "cell_type": "code",
      "source": [
        "# Define a transformation to normalize the data\n",
        "transform = Compose([\n",
        "    ToTensor(),\n",
        "    Normalize((0.5,), (0.5,))  # Normalize to range [-1, 1] assuming the data is in range [0, 255]\n",
        "])\n",
        "\n",
        "# Assuming `dataset` is a list with 4 elements: train_images, train_labels, test_images, test_labels\n",
        "train_images_np = dataset[0].reshape(-1, 36, 36).astype('float32') / 255.0\n",
        "train_labels_np = dataset[1]\n",
        "test_images_np = dataset[2].reshape(-1, 36, 36).astype('float32') / 255.0\n",
        "test_labels_np = dataset[3]"
      ],
      "metadata": {
        "id": "W079HVvpvvDL"
      },
      "execution_count": null,
      "outputs": []
    },
    {
      "cell_type": "code",
      "source": [
        "# Apply the transformation and convert to tensors\n",
        "train_images = torch.stack([transform(img) for img in train_images_np])\n",
        "train_labels = torch.tensor(train_labels_np, dtype=torch.long)\n",
        "test_images = torch.stack([transform(img) for img in test_images_np])\n",
        "test_labels = torch.tensor(test_labels_np, dtype=torch.long)\n",
        "\n",
        "# Create TensorDatasets\n",
        "train_dataset = TensorDataset(train_images, train_labels)\n",
        "test_dataset = TensorDataset(test_images, test_labels)\n"
      ],
      "metadata": {
        "id": "HYOwU-7nvz_w"
      },
      "execution_count": null,
      "outputs": []
    },
    {
      "cell_type": "code",
      "source": [
        "# Create DataLoaders\n",
        "batch_size = 64\n",
        "train_loader = DataLoader(dataset=train_dataset, batch_size=batch_size, shuffle=True)\n",
        "test_loader = DataLoader(dataset=test_dataset, batch_size=batch_size, shuffle=False)\n"
      ],
      "metadata": {
        "id": "DRjftltdwGIa"
      },
      "execution_count": null,
      "outputs": []
    },
    {
      "cell_type": "code",
      "source": [
        "import torch.nn as nn\n",
        "import torch.optim as optim\n"
      ],
      "metadata": {
        "id": "47Y86JcAwJK4"
      },
      "execution_count": null,
      "outputs": []
    },
    {
      "cell_type": "code",
      "source": [
        "from typing import List"
      ],
      "metadata": {
        "id": "pQ56h7Rx5Xri"
      },
      "execution_count": null,
      "outputs": []
    },
    {
      "cell_type": "code",
      "source": [
        "class LeNetHyper(nn.Module):\n",
        "    \"\"\"LeNet Hypernetwork\"\"\"\n",
        "\n",
        "    def __init__(\n",
        "        self,\n",
        "        kernel_size: List[int],\n",
        "        ray_hidden_dim=100,\n",
        "        out_dim=10,\n",
        "        target_hidden_dim=50,\n",
        "        n_kernels=10,\n",
        "        n_conv_layers=2,\n",
        "        n_hidden=1,\n",
        "        n_tasks=2,\n",
        "    ):\n",
        "        super().__init__()\n",
        "        self.n_conv_layers = n_conv_layers\n",
        "        self.n_hidden = n_hidden\n",
        "        self.n_tasks = n_tasks\n",
        "\n",
        "        assert len(kernel_size) == n_conv_layers, (\n",
        "            \"kernel_size is list with same dim as number of \"\n",
        "            \"conv layers holding kernel size for each conv layer\"\n",
        "        )\n",
        "\n",
        "        self.ray_mlp = nn.Sequential(\n",
        "            nn.Linear(2, ray_hidden_dim),\n",
        "            nn.ReLU(inplace=True),\n",
        "            nn.Linear(ray_hidden_dim, ray_hidden_dim),\n",
        "            nn.ReLU(inplace=True),\n",
        "            nn.Linear(ray_hidden_dim, ray_hidden_dim),\n",
        "        )\n",
        "\n",
        "        self.conv_0_weights = nn.Linear(\n",
        "            ray_hidden_dim, n_kernels * kernel_size[0] * kernel_size[0]\n",
        "        )\n",
        "        self.conv_0_bias = nn.Linear(ray_hidden_dim, n_kernels)\n",
        "\n",
        "        for i in range(1, n_conv_layers):\n",
        "            # previous number of kernels\n",
        "            p = 2 ** (i - 1) * n_kernels\n",
        "            # current number of kernels\n",
        "            c = 2 ** i * n_kernels\n",
        "\n",
        "            setattr(\n",
        "                self,\n",
        "                f\"conv_{i}_weights\",\n",
        "                nn.Linear(ray_hidden_dim, c * p * kernel_size[i] * kernel_size[i]),\n",
        "            )\n",
        "            setattr(self, f\"conv_{i}_bias\", nn.Linear(ray_hidden_dim, c))\n",
        "\n",
        "        latent = 25\n",
        "        self.hidden_0_weights = nn.Linear(\n",
        "            ray_hidden_dim, target_hidden_dim * 2 ** i * n_kernels * latent\n",
        "        )\n",
        "        self.hidden_0_bias = nn.Linear(ray_hidden_dim, target_hidden_dim)\n",
        "\n",
        "        for j in range(n_tasks):\n",
        "            setattr(\n",
        "                self,\n",
        "                f\"task_{j}_weights\",\n",
        "                nn.Linear(ray_hidden_dim, target_hidden_dim * out_dim),\n",
        "            )\n",
        "            setattr(self, f\"task_{j}_bias\", nn.Linear(ray_hidden_dim, out_dim))\n",
        "\n",
        "    def shared_parameters(self):\n",
        "        return list([p for n, p in self.named_parameters() if \"task\" not in n])\n",
        "\n",
        "    def forward(self, ray):\n",
        "        features = self.ray_mlp(ray)\n",
        "\n",
        "        out_dict = {}\n",
        "        layer_types = [\"conv\", \"hidden\", \"task\"]\n",
        "\n",
        "        for i in layer_types:\n",
        "            if i == \"conv\":\n",
        "                n_layers = self.n_conv_layers\n",
        "            elif i == \"hidden\":\n",
        "                n_layers = self.n_hidden\n",
        "            elif i == \"task\":\n",
        "                n_layers = self.n_tasks\n",
        "\n",
        "            for j in range(n_layers):\n",
        "                out_dict[f\"{i}{j}.weights\"] = getattr(self, f\"{i}_{j}_weights\")(\n",
        "                    features\n",
        "                )\n",
        "                out_dict[f\"{i}{j}.bias\"] = getattr(self, f\"{i}_{j}_bias\")(\n",
        "                    features\n",
        "                ).flatten()\n",
        "\n",
        "        return out_dict\n",
        "\n"
      ],
      "metadata": {
        "id": "zKncieEA41gD"
      },
      "execution_count": null,
      "outputs": []
    },
    {
      "cell_type": "code",
      "source": [
        "import torch.nn.functional as F"
      ],
      "metadata": {
        "id": "xHMjyT6j5mkK"
      },
      "execution_count": null,
      "outputs": []
    },
    {
      "cell_type": "code",
      "source": [
        "class LeNetTarget(nn.Module):\n",
        "    \"\"\"LeNet target network\"\"\"\n",
        "\n",
        "    def __init__(\n",
        "        self,\n",
        "        kernel_size,\n",
        "        n_kernels=10,\n",
        "        out_dim=10,\n",
        "        target_hidden_dim=50,\n",
        "        n_conv_layers=2,\n",
        "        n_tasks=2,\n",
        "    ):\n",
        "        super().__init__()\n",
        "        assert len(kernel_size) == n_conv_layers, (\n",
        "            \"kernel_size is list with same dim as number of \"\n",
        "            \"conv layers holding kernel size for each conv layer\"\n",
        "        )\n",
        "        self.n_kernels = n_kernels\n",
        "        self.kernel_size = kernel_size\n",
        "        self.out_dim = out_dim\n",
        "        self.n_conv_layers = n_conv_layers\n",
        "        self.n_tasks = n_tasks\n",
        "        self.target_hidden_dim = target_hidden_dim\n",
        "\n",
        "    def forward(self, x, weights=None):\n",
        "        x = F.conv2d(\n",
        "            x,\n",
        "            weight=weights[\"conv0.weights\"].reshape(\n",
        "                self.n_kernels, 1, self.kernel_size[0], self.kernel_size[0]\n",
        "            ),\n",
        "            bias=weights[\"conv0.bias\"],\n",
        "            stride=1,\n",
        "        )\n",
        "        x = F.relu(x)\n",
        "        x = F.max_pool2d(x, 2)\n",
        "        for i in range(1, self.n_conv_layers):\n",
        "            x = F.conv2d(\n",
        "                x,\n",
        "                weight=weights[f\"conv{i}.weights\"].reshape(\n",
        "                    int(2 ** i * self.n_kernels),\n",
        "                    int(2 ** (i - 1) * self.n_kernels),\n",
        "                    self.kernel_size[i],\n",
        "                    self.kernel_size[i],\n",
        "                ),\n",
        "                bias=weights[f\"conv{i}.bias\"],\n",
        "                stride=1,\n",
        "            )\n",
        "            x = F.relu(x)\n",
        "            x = F.max_pool2d(x, 2)\n",
        "\n",
        "        x = torch.flatten(x, 1)\n",
        "\n",
        "        x = F.linear(\n",
        "            x,\n",
        "            weight=weights[\"hidden0.weights\"].reshape(\n",
        "                self.target_hidden_dim, x.shape[-1]\n",
        "            ),\n",
        "            bias=weights[\"hidden0.bias\"],\n",
        "        )\n",
        "\n",
        "        logits = []\n",
        "        for j in range(self.n_tasks):\n",
        "            logits.append(\n",
        "                F.linear(\n",
        "                    x,\n",
        "                    weight=weights[f\"task{j}.weights\"].reshape(\n",
        "                        self.out_dim, self.target_hidden_dim\n",
        "                    ),\n",
        "                    bias=weights[f\"task{j}.bias\"],\n",
        "                )\n",
        "            )\n",
        "        return logits"
      ],
      "metadata": {
        "id": "PejKhT365cLV"
      },
      "execution_count": null,
      "outputs": []
    },
    {
      "cell_type": "code",
      "source": [
        "def circle_points(K, min_angle=None, max_angle=None):\n",
        "    # generate evenly distributed preference vector\n",
        "    ang0 = 1e-6 if min_angle is None else min_angle\n",
        "    ang1 = np.pi / 2 - ang0 if max_angle is None else max_angle\n",
        "    angles = np.linspace(ang0, ang1, K, endpoint=True)\n",
        "    x = np.cos(angles)\n",
        "    y = np.sin(angles)\n",
        "    return np.c_[x, y]"
      ],
      "metadata": {
        "id": "1vJFvzeq5snJ"
      },
      "execution_count": null,
      "outputs": []
    },
    {
      "cell_type": "code",
      "source": [
        "def count_parameters(model):\n",
        "    return sum(p.numel() for p in model.parameters() if p.requires_grad)"
      ],
      "metadata": {
        "id": "ClBA9tlM6Iuq"
      },
      "execution_count": null,
      "outputs": []
    },
    {
      "cell_type": "code",
      "source": [
        "import logging"
      ],
      "metadata": {
        "id": "Hrfyl27w7Un6"
      },
      "execution_count": null,
      "outputs": []
    },
    {
      "cell_type": "code",
      "source": [
        "def set_logger():\n",
        "    logging.basicConfig(\n",
        "        format=\"%(asctime)s - %(name)s - %(levelname)s - %(message)s\",\n",
        "        level=logging.INFO,\n",
        "    )\n"
      ],
      "metadata": {
        "id": "PjryZyao7QID"
      },
      "execution_count": null,
      "outputs": []
    },
    {
      "cell_type": "code",
      "source": [
        "from collections import defaultdict"
      ],
      "metadata": {
        "id": "7abNBijJ7-Ri"
      },
      "execution_count": null,
      "outputs": []
    },
    {
      "cell_type": "code",
      "source": [
        "@torch.no_grad()\n",
        "def evaluate(hypernet, targetnet, loader, rays):\n",
        "    hypernet.eval()\n",
        "    loss1 = nn.CrossEntropyLoss()\n",
        "    loss2 = nn.CrossEntropyLoss()\n",
        "\n",
        "    results = defaultdict(list)\n",
        "\n",
        "    for ray in rays:\n",
        "        total = 0.0\n",
        "        task1_correct, task2_correct = 0.0, 0.0\n",
        "        l1, l2 = 0.0, 0.0\n",
        "        ray = torch.from_numpy(ray.astype(np.float32))\n",
        "        ray /= ray.sum()\n",
        "\n",
        "        for batch in loader:\n",
        "            hypernet.zero_grad()\n",
        "\n",
        "            batch = (t for t in batch)\n",
        "            img, ys = batch\n",
        "            bs = len(ys)\n",
        "\n",
        "            weights = hypernet(ray)\n",
        "            logit1, logit2 = targetnet(img, weights)\n",
        "\n",
        "            # loss\n",
        "            curr_l1 = loss1(logit1, ys[:, 0])\n",
        "            curr_l2 = loss2(logit2, ys[:, 1])\n",
        "            l1 += curr_l1 * bs\n",
        "            l2 += curr_l2 * bs\n",
        "\n",
        "            # acc\n",
        "            pred1 = logit1.data.max(1)[1]  # first column has actual prob.\n",
        "            pred2 = logit2.data.max(1)[1]  # first column has actual prob.\n",
        "            task1_correct += pred1.eq(ys[:, 0]).sum()\n",
        "            task2_correct += pred2.eq(ys[:, 1]).sum()\n",
        "\n",
        "            total += bs\n",
        "\n",
        "        results[\"ray\"].append(ray.squeeze(0).numpy().tolist())\n",
        "        results[\"task1_acc\"].append(task1_correct.item() / total)\n",
        "        results[\"task2_acc\"].append(task2_correct.item() / total)\n",
        "        results[\"task1_loss\"].append(l1.item() / total)\n",
        "        results[\"task2_loss\"].append(l2.item() / total)\n",
        "\n",
        "    return results\n"
      ],
      "metadata": {
        "id": "IoPvEKqP7z8_"
      },
      "execution_count": null,
      "outputs": []
    },
    {
      "cell_type": "code",
      "source": [
        "from abc import abstractmethod"
      ],
      "metadata": {
        "id": "kyQfPybP9rtb"
      },
      "execution_count": null,
      "outputs": []
    },
    {
      "cell_type": "code",
      "source": [
        "class Solver:\n",
        "    def __init__(self, n_tasks):\n",
        "        super().__init__()\n",
        "        self.n_tasks = n_tasks\n",
        "\n",
        "    @abstractmethod\n",
        "    def get_weighted_loss(self, losses, ray, parameters=None, **kwargs):\n",
        "        pass\n",
        "\n",
        "    def __call__(self, losses, ray, parameters, **kwargs):\n",
        "        return self.get_weighted_loss(losses, ray, parameters, **kwargs)\n",
        "\n",
        "\n",
        "class LinearScalarizationSolver(Solver):\n",
        "    \"\"\"For LS we use the preference ray to weigh the losses\"\"\"\n",
        "\n",
        "    def __init__(self, n_tasks):\n",
        "        super().__init__(n_tasks)\n",
        "\n",
        "    def get_weighted_loss(self, losses, ray, parameters=None, **kwargs):\n",
        "        return (losses * ray).sum()"
      ],
      "metadata": {
        "id": "XjAaOzP99chA"
      },
      "execution_count": null,
      "outputs": []
    },
    {
      "cell_type": "code",
      "source": [
        "from tqdm import trange"
      ],
      "metadata": {
        "id": "k_IoMxI0-Nuo"
      },
      "execution_count": null,
      "outputs": []
    },
    {
      "cell_type": "code",
      "source": [
        "from pathlib import Path"
      ],
      "metadata": {
        "id": "37-M9FcQ_Fo5"
      },
      "execution_count": null,
      "outputs": []
    },
    {
      "cell_type": "code",
      "source": [
        "import json"
      ],
      "metadata": {
        "id": "nJAQhPz1_K0_"
      },
      "execution_count": null,
      "outputs": []
    },
    {
      "cell_type": "code",
      "source": [
        "from sklearn.model_selection import train_test_split"
      ],
      "metadata": {
        "id": "RaPg6FR_DT4H"
      },
      "execution_count": null,
      "outputs": []
    },
    {
      "cell_type": "code",
      "source": [
        "class Dataset:\n",
        "    def __init__(self, path, val_size=0):\n",
        "        self.path = path\n",
        "        self.val_size = val_size\n",
        "\n",
        "    def get_datasets(self):\n",
        "        with open(self.path, \"rb\") as f:\n",
        "            trainX, trainLabel, testX, testLabel = pickle.load(f)\n",
        "\n",
        "        n_train = len(trainX)\n",
        "        if self.val_size > 0:\n",
        "            trainX, valX, trainLabel, valLabel = train_test_split(\n",
        "                trainX, trainLabel, test_size=self.val_size, random_state=42\n",
        "            )\n",
        "            n_train = len(trainX)\n",
        "            n_val = len(valX)\n",
        "\n",
        "        trainX = torch.from_numpy(trainX.reshape(n_train, 1, 36, 36)).float()\n",
        "        trainLabel = torch.from_numpy(trainLabel).long()\n",
        "        testX = torch.from_numpy(testX.reshape(20000, 1, 36, 36)).float()\n",
        "        testLabel = torch.from_numpy(testLabel).long()\n",
        "\n",
        "        train_set = torch.utils.data.TensorDataset(trainX, trainLabel)\n",
        "        test_set = torch.utils.data.TensorDataset(testX, testLabel)\n",
        "\n",
        "        if self.val_size > 0:\n",
        "            valX = torch.from_numpy(valX.reshape(n_val, 1, 36, 36)).float()\n",
        "            valLabel = torch.from_numpy(valLabel).long()\n",
        "            val_set = torch.utils.data.TensorDataset(valX, valLabel)\n",
        "\n",
        "            return train_set, val_set, test_set\n",
        "\n",
        "        return train_set, test_set"
      ],
      "metadata": {
        "id": "hZ4vo8bTDKL_"
      },
      "execution_count": null,
      "outputs": []
    },
    {
      "cell_type": "code",
      "source": [
        "def train(\n",
        "    path,\n",
        "    solver_type: str,\n",
        "    epochs: int,\n",
        "    hidden_dim: int,\n",
        "    model: str,\n",
        "    lr: float,\n",
        "    wd: float,\n",
        "    bs: int,\n",
        "    val_size: float,\n",
        "    n_rays: int,\n",
        "    alpha: float,\n",
        "    no_val_eval: bool,\n",
        "    out_dir: str,\n",
        "    eval_every: int,\n",
        "\n",
        ") -> None:\n",
        "    # ----\n",
        "    # Nets\n",
        "    # ----\n",
        "    hnet: nn.Module = LeNetHyper([9, 5], ray_hidden_dim=hidden_dim)\n",
        "    net: nn.Module = LeNetTarget([9, 5])\n",
        "\n",
        "\n",
        "    logging.info(f\"HN size: {count_parameters(hnet)}\")\n",
        "\n",
        "    hnet = hnet\n",
        "    net = net\n",
        "\n",
        "    # ---------\n",
        "    # Task loss\n",
        "    # ---------\n",
        "    loss1 = nn.CrossEntropyLoss()\n",
        "    loss2 = nn.CrossEntropyLoss()\n",
        "\n",
        "    optimizer = torch.optim.Adam(hnet.parameters(), lr=lr, weight_decay=wd)\n",
        "\n",
        "    # ------\n",
        "    # solver\n",
        "    # ------\n",
        "    solvers = dict(ls=LinearScalarizationSolver)\n",
        "\n",
        "    solver_method = solvers[solver_type]\n",
        "\n",
        "        # ls\n",
        "    solver = solver_method(n_tasks=2)\n",
        "\n",
        "    # ----\n",
        "    # data\n",
        "    # ----\n",
        "    assert val_size > 0, \"please use validation by providing val_size > 0\"\n",
        "    data = Dataset(path, val_size=val_size)\n",
        "    train_set, val_set, test_set = data.get_datasets()\n",
        "\n",
        "    train_loader = torch.utils.data.DataLoader(\n",
        "        dataset=train_set, batch_size=bs, shuffle=True, num_workers=4\n",
        "    )\n",
        "    val_loader = torch.utils.data.DataLoader(\n",
        "        dataset=val_set, batch_size=bs, shuffle=True, num_workers=4\n",
        "    )\n",
        "    test_loader = torch.utils.data.DataLoader(\n",
        "        dataset=test_set, batch_size=bs, shuffle=False, num_workers=4\n",
        "    )\n",
        "\n",
        "    min_angle = 0.1\n",
        "    max_angle = np.pi / 2 - 0.1\n",
        "    test_rays = circle_points(n_rays, min_angle=min_angle, max_angle=max_angle)\n",
        "\n",
        "    # ----------\n",
        "    # Train loop\n",
        "    # ----------\n",
        "    last_eval = -1\n",
        "    epoch_iter = trange(epochs)\n",
        "\n",
        "    val_results = dict()\n",
        "    test_results = dict()\n",
        "\n",
        "    for epoch in epoch_iter:\n",
        "\n",
        "        for i, batch in enumerate(train_loader):\n",
        "            hnet.train()\n",
        "            optimizer.zero_grad()\n",
        "            img, ys = batch\n",
        "\n",
        "\n",
        "            if alpha > 0:\n",
        "                ray = torch.from_numpy(\n",
        "                    np.random.dirichlet((alpha, alpha), 1).astype(np.float32).flatten()\n",
        "                )\n",
        "            else:\n",
        "                alpha = torch.empty(\n",
        "                    1,\n",
        "                ).uniform_(0.0, 1.0)\n",
        "                ray = torch.tensor([alpha.item(), 1 - alpha.item()])\n",
        "\n",
        "            weights = hnet(ray)\n",
        "            logit1, logit2 = net(img, weights)\n",
        "\n",
        "            l1 = loss1(logit1, ys[:, 0])\n",
        "            l2 = loss2(logit2, ys[:, 1])\n",
        "            losses = torch.stack((l1, l2))\n",
        "\n",
        "            ray = ray.squeeze(0)\n",
        "            loss = solver(losses, ray, list(hnet.parameters()))\n",
        "\n",
        "            loss.backward()\n",
        "\n",
        "            epoch_iter.set_description(\n",
        "                f\"total weighted loss: {loss.item():.3f}, loss 1: {l1.item():.3f}, loss 2: {l2.item():.3f}\"\n",
        "                # f\", ray {ray.cpu().numpy().tolist()}\"\n",
        "            )\n",
        "\n",
        "            optimizer.step()\n",
        "\n",
        "        if (epoch + 1) % eval_every == 0:\n",
        "            last_eval = epoch\n",
        "            if not no_val_eval:\n",
        "                epoch_results = evaluate(\n",
        "                    hypernet=hnet,\n",
        "                    targetnet=net,\n",
        "                    loader=val_loader,\n",
        "                    rays=test_rays,\n",
        "\n",
        "                )\n",
        "                val_results[f\"epoch_{epoch + 1}\"] = epoch_results\n",
        "\n",
        "            test_epoch_results = evaluate(\n",
        "                hypernet=hnet,\n",
        "                targetnet=net,\n",
        "                loader=test_loader,\n",
        "                rays=test_rays,\n",
        "\n",
        "            )\n",
        "            test_results[f\"epoch_{epoch + 1}\"] = test_epoch_results\n",
        "\n",
        "    if epoch != last_eval:\n",
        "        if not no_val_eval:\n",
        "            epoch_results = evaluate(\n",
        "                hypernet=hnet,\n",
        "                targetnet=net,\n",
        "                loader=val_loader,\n",
        "                rays=test_rays,\n",
        "\n",
        "            )\n",
        "            val_results[f\"epoch_{epoch + 1}\"] = epoch_results\n",
        "\n",
        "        test_epoch_results = evaluate(\n",
        "            hypernet=hnet,\n",
        "            targetnet=net,\n",
        "            loader=test_loader,\n",
        "            rays=test_rays,\n",
        "\n",
        "        )\n",
        "        test_results[f\"epoch_{epoch + 1}\"] = test_epoch_results\n",
        "\n",
        "    out_dir = Path(out_dir)\n",
        "    out_dir.mkdir(parents=True, exist_ok=True)\n",
        "\n",
        "    with open(Path(out_dir) / \"val_results.json\", \"w\") as file:\n",
        "        json.dump(val_results, file)\n",
        "    with open(Path(out_dir) / \"test_results.json\", \"w\") as file:\n",
        "        json.dump(test_results, file)\n"
      ],
      "metadata": {
        "id": "1y8bYyi29Avk"
      },
      "execution_count": null,
      "outputs": []
    },
    {
      "cell_type": "code",
      "source": [
        "import argparse"
      ],
      "metadata": {
        "id": "nQMT3TkjELJr"
      },
      "execution_count": null,
      "outputs": []
    },
    {
      "cell_type": "code",
      "source": [
        "import random"
      ],
      "metadata": {
        "id": "MN4acxOBFaaB"
      },
      "execution_count": null,
      "outputs": []
    },
    {
      "cell_type": "code",
      "source": [
        "def set_seed(seed):\n",
        "    \"\"\"for reproducibility\n",
        "    :param seed:\n",
        "    :return:\n",
        "    \"\"\"\n",
        "    np.random.seed(seed)\n",
        "    random.seed(seed)\n",
        "\n",
        "    torch.manual_seed(seed)"
      ],
      "metadata": {
        "id": "en3CwUx8Eyc-"
      },
      "execution_count": null,
      "outputs": []
    },
    {
      "cell_type": "code",
      "source": [
        "def save_args(folder, args, name=\"config.json\", check_exists=False):\n",
        "    set_logger()\n",
        "    path = Path(folder)\n",
        "    if check_exists:\n",
        "        if path.exists():\n",
        "            logging.warning(f\"folder {folder} already exists! old files might be lost.\")\n",
        "    path.mkdir(parents=True, exist_ok=True)\n",
        "\n",
        "    json.dump(vars(args), open(path / name, \"w\"))"
      ],
      "metadata": {
        "id": "9fhgDMxdFk_8"
      },
      "execution_count": null,
      "outputs": []
    },
    {
      "cell_type": "code",
      "source": [
        "set_seed(42)\n",
        "\n",
        "set_logger()\n",
        "\n",
        "train(\n",
        "        path=\"multi_mnist.pickle\",\n",
        "        solver_type=\"ls\",\n",
        "        epochs=150,\n",
        "        hidden_dim=100,\n",
        "        model=\"lenet\",\n",
        "        lr=1e-4,\n",
        "        wd=0.0,\n",
        "        bs=256,\n",
        "\n",
        "        eval_every=10,\n",
        "        no_val_eval=False,\n",
        "        val_size=0.1,\n",
        "        n_rays=25,\n",
        "        alpha=0.2,\n",
        "        out_dir=\"outputs\",\n",
        "    )\n",
        "\n"
      ],
      "metadata": {
        "colab": {
          "base_uri": "https://localhost:8080/",
          "height": 462
        },
        "id": "_sn6VS6p_via",
        "outputId": "a1ecf2e0-1757-4c5a-f045-ea6640be181e"
      },
      "execution_count": null,
      "outputs": [
        {
          "output_type": "stream",
          "name": "stderr",
          "text": [
            "/usr/local/lib/python3.10/dist-packages/torch/utils/data/dataloader.py:558: UserWarning: This DataLoader will create 4 worker processes in total. Our suggested max number of worker in current system is 2, which is smaller than what this DataLoader is going to create. Please be aware that excessive worker creation might get DataLoader running slow or even freeze, lower the worker number to avoid potential slowness/freeze if necessary.\n",
            "  warnings.warn(_create_warning_msg(\n",
            "total weighted loss: 0.296, loss 1: 0.281, loss 2: 0.296:  39%|███▊      | 58/150 [1:27:03<2:18:05, 90.06s/it]\n"
          ]
        },
        {
          "output_type": "error",
          "ename": "KeyboardInterrupt",
          "evalue": "",
          "traceback": [
            "\u001b[0;31m---------------------------------------------------------------------------\u001b[0m",
            "\u001b[0;31mKeyboardInterrupt\u001b[0m                         Traceback (most recent call last)",
            "\u001b[0;32m<ipython-input-35-9a9be57caecc>\u001b[0m in \u001b[0;36m<cell line: 5>\u001b[0;34m()\u001b[0m\n\u001b[1;32m      3\u001b[0m \u001b[0mset_logger\u001b[0m\u001b[0;34m(\u001b[0m\u001b[0;34m)\u001b[0m\u001b[0;34m\u001b[0m\u001b[0;34m\u001b[0m\u001b[0m\n\u001b[1;32m      4\u001b[0m \u001b[0;34m\u001b[0m\u001b[0m\n\u001b[0;32m----> 5\u001b[0;31m train(\n\u001b[0m\u001b[1;32m      6\u001b[0m         \u001b[0mpath\u001b[0m\u001b[0;34m=\u001b[0m\u001b[0;34m\"multi_mnist.pickle\"\u001b[0m\u001b[0;34m,\u001b[0m\u001b[0;34m\u001b[0m\u001b[0;34m\u001b[0m\u001b[0m\n\u001b[1;32m      7\u001b[0m         \u001b[0msolver_type\u001b[0m\u001b[0;34m=\u001b[0m\u001b[0;34m\"ls\"\u001b[0m\u001b[0;34m,\u001b[0m\u001b[0;34m\u001b[0m\u001b[0;34m\u001b[0m\u001b[0m\n",
            "\u001b[0;32m<ipython-input-30-ee252c1460b5>\u001b[0m in \u001b[0;36mtrain\u001b[0;34m(path, solver_type, epochs, hidden_dim, model, lr, wd, bs, val_size, n_rays, alpha, no_val_eval, out_dir, eval_every)\u001b[0m\n\u001b[1;32m    104\u001b[0m             \u001b[0mloss\u001b[0m \u001b[0;34m=\u001b[0m \u001b[0msolver\u001b[0m\u001b[0;34m(\u001b[0m\u001b[0mlosses\u001b[0m\u001b[0;34m,\u001b[0m \u001b[0mray\u001b[0m\u001b[0;34m,\u001b[0m \u001b[0mlist\u001b[0m\u001b[0;34m(\u001b[0m\u001b[0mhnet\u001b[0m\u001b[0;34m.\u001b[0m\u001b[0mparameters\u001b[0m\u001b[0;34m(\u001b[0m\u001b[0;34m)\u001b[0m\u001b[0;34m)\u001b[0m\u001b[0;34m)\u001b[0m\u001b[0;34m\u001b[0m\u001b[0;34m\u001b[0m\u001b[0m\n\u001b[1;32m    105\u001b[0m \u001b[0;34m\u001b[0m\u001b[0m\n\u001b[0;32m--> 106\u001b[0;31m             \u001b[0mloss\u001b[0m\u001b[0;34m.\u001b[0m\u001b[0mbackward\u001b[0m\u001b[0;34m(\u001b[0m\u001b[0;34m)\u001b[0m\u001b[0;34m\u001b[0m\u001b[0;34m\u001b[0m\u001b[0m\n\u001b[0m\u001b[1;32m    107\u001b[0m \u001b[0;34m\u001b[0m\u001b[0m\n\u001b[1;32m    108\u001b[0m             epoch_iter.set_description(\n",
            "\u001b[0;32m/usr/local/lib/python3.10/dist-packages/torch/_tensor.py\u001b[0m in \u001b[0;36mbackward\u001b[0;34m(self, gradient, retain_graph, create_graph, inputs)\u001b[0m\n\u001b[1;32m    520\u001b[0m                 \u001b[0minputs\u001b[0m\u001b[0;34m=\u001b[0m\u001b[0minputs\u001b[0m\u001b[0;34m,\u001b[0m\u001b[0;34m\u001b[0m\u001b[0;34m\u001b[0m\u001b[0m\n\u001b[1;32m    521\u001b[0m             )\n\u001b[0;32m--> 522\u001b[0;31m         torch.autograd.backward(\n\u001b[0m\u001b[1;32m    523\u001b[0m             \u001b[0mself\u001b[0m\u001b[0;34m,\u001b[0m \u001b[0mgradient\u001b[0m\u001b[0;34m,\u001b[0m \u001b[0mretain_graph\u001b[0m\u001b[0;34m,\u001b[0m \u001b[0mcreate_graph\u001b[0m\u001b[0;34m,\u001b[0m \u001b[0minputs\u001b[0m\u001b[0;34m=\u001b[0m\u001b[0minputs\u001b[0m\u001b[0;34m\u001b[0m\u001b[0;34m\u001b[0m\u001b[0m\n\u001b[1;32m    524\u001b[0m         )\n",
            "\u001b[0;32m/usr/local/lib/python3.10/dist-packages/torch/autograd/__init__.py\u001b[0m in \u001b[0;36mbackward\u001b[0;34m(tensors, grad_tensors, retain_graph, create_graph, grad_variables, inputs)\u001b[0m\n\u001b[1;32m    264\u001b[0m     \u001b[0;31m# some Python versions print out the first line of a multi-line function\u001b[0m\u001b[0;34m\u001b[0m\u001b[0;34m\u001b[0m\u001b[0m\n\u001b[1;32m    265\u001b[0m     \u001b[0;31m# calls in the traceback and some print out the last line\u001b[0m\u001b[0;34m\u001b[0m\u001b[0;34m\u001b[0m\u001b[0m\n\u001b[0;32m--> 266\u001b[0;31m     Variable._execution_engine.run_backward(  # Calls into the C++ engine to run the backward pass\n\u001b[0m\u001b[1;32m    267\u001b[0m         \u001b[0mtensors\u001b[0m\u001b[0;34m,\u001b[0m\u001b[0;34m\u001b[0m\u001b[0;34m\u001b[0m\u001b[0m\n\u001b[1;32m    268\u001b[0m         \u001b[0mgrad_tensors_\u001b[0m\u001b[0;34m,\u001b[0m\u001b[0;34m\u001b[0m\u001b[0;34m\u001b[0m\u001b[0m\n",
            "\u001b[0;31mKeyboardInterrupt\u001b[0m: "
          ]
        }
      ]
    },
    {
      "cell_type": "code",
      "source": [
        "# Define the Multi-task CNN\n",
        "class MultiTaskCNN(nn.Module):\n",
        "    def __init__(self):\n",
        "        super(MultiTaskCNN, self).__init__()\n",
        "        # Shared layers\n",
        "        self.conv_base = nn.Sequential(\n",
        "            nn.Conv2d(1, 32, kernel_size=3, padding=1),\n",
        "            nn.ReLU(),\n",
        "            nn.MaxPool2d(kernel_size=2, stride=2),\n",
        "        )\n",
        "\n",
        "        self.fc = nn.Linear(32 * 18 * 18, 128)\n",
        "\n",
        "        # Task-specific layers\n",
        "        self.fc_top_left = nn.Linear(128, 10)\n",
        "        self.fc_bottom_right = nn.Linear(128, 10)\n",
        "    def forward(self, x):\n",
        "        x = self.conv_base(x)\n",
        "        x = x.view(x.size(0), -1)\n",
        "        x = self.fc(x)\n",
        "\n",
        "        top_left_output = self.fc_top_left(x)\n",
        "        bottom_right_output = self.fc_bottom_right(x)\n",
        "        return top_left_output, bottom_right_output\n"
      ],
      "metadata": {
        "id": "ogxZwCEswXta"
      },
      "execution_count": null,
      "outputs": []
    },
    {
      "cell_type": "code",
      "source": [
        "# Initialize the model, loss functions, and optimizer\n",
        "model = MultiTaskCNN()\n",
        "criterion = nn.CrossEntropyLoss()\n",
        "optimizer = optim.Adam(model.parameters(), lr=0.001)"
      ],
      "metadata": {
        "id": "LfyMvgcWwfT3"
      },
      "execution_count": null,
      "outputs": []
    },
    {
      "cell_type": "code",
      "source": [
        "num_epochs = 10  # Set the number of epochs\n",
        "\n",
        "for epoch in range(num_epochs):\n",
        "    model.train()  # Set the model to training mode\n",
        "    running_loss = 0.0\n",
        "\n",
        "    for batch_images, batch_labels in train_loader:\n",
        "        # Split the labels for each digit\n",
        "        top_left_labels = batch_labels[:, 0]\n",
        "        bottom_right_labels = batch_labels[:, 1]\n",
        "\n",
        "        # Forward pass\n",
        "        top_left_pred, bottom_right_pred = model(batch_images)\n",
        "        loss_top_left = criterion(top_left_pred, top_left_labels)\n",
        "        loss_bottom_right = criterion(bottom_right_pred, bottom_right_labels)\n",
        "\n",
        "        # Combine losses\n",
        "        loss = loss_top_left + loss_bottom_right\n",
        "        running_loss += loss.item()\n",
        "\n",
        "        # Backward pass and optimize\n",
        "        optimizer.zero_grad()\n",
        "        loss.backward()\n",
        "        optimizer.step()\n",
        "\n",
        "    # Calculate average loss for this epoch\n",
        "    epoch_loss = running_loss / len(train_loader)\n",
        "\n",
        "    # Print the average loss for the epoch\n",
        "    print(f'Epoch [{epoch+1}/{num_epochs}], Loss: {epoch_loss:.4f}')\n",
        "    # Validation step (if desired)\n",
        "    model.eval()  # Set the model to evaluation mode\n",
        "    with torch.no_grad():\n",
        "        # Initialize variable to calculate validation loss\n",
        "        val_loss = 0.0\n",
        "        # Iterate over the validation set\n",
        "        for val_images, val_labels in test_loader:\n",
        "            # Split the labels\n",
        "            top_left_labels = val_labels[:, 0]\n",
        "            bottom_right_labels = val_labels[:, 1]\n",
        "\n",
        "            # Forward pass\n",
        "            top_left_pred, bottom_right_pred = model(val_images)\n",
        "            loss_top_left = criterion(top_left_pred, top_left_labels)\n",
        "            loss_bottom_right = criterion(bottom_right_pred, bottom_right_labels)\n",
        "\n",
        "            # Combine losses\n",
        "            loss = loss_top_left + loss_bottom_right\n",
        "            val_loss += loss.item()\n",
        "\n",
        "        # Calculate average validation loss\n",
        "        avg_val_loss = val_loss / len(test_loader)\n",
        "        print(f'Validation Loss: {avg_val_loss:.4f}')"
      ],
      "metadata": {
        "colab": {
          "base_uri": "https://localhost:8080/"
        },
        "id": "Xtq0a8_vyAU0",
        "outputId": "1f22fcdd-7c51-4763-e6fc-4ccb3cd61b2a"
      },
      "execution_count": null,
      "outputs": [
        {
          "output_type": "stream",
          "name": "stdout",
          "text": [
            "Epoch [1/10], Loss: 0.4045\n",
            "Validation Loss: 0.8108\n",
            "Epoch [2/10], Loss: 0.3857\n",
            "Validation Loss: 0.8413\n",
            "Epoch [3/10], Loss: 0.3685\n",
            "Validation Loss: 0.8612\n",
            "Epoch [4/10], Loss: 0.3559\n",
            "Validation Loss: 0.8860\n",
            "Epoch [5/10], Loss: 0.3411\n",
            "Validation Loss: 0.9153\n",
            "Epoch [6/10], Loss: 0.3290\n",
            "Validation Loss: 0.9632\n",
            "Epoch [7/10], Loss: 0.3187\n",
            "Validation Loss: 0.9798\n",
            "Epoch [8/10], Loss: 0.3093\n",
            "Validation Loss: 1.0023\n",
            "Epoch [9/10], Loss: 0.3016\n",
            "Validation Loss: 1.0187\n",
            "Epoch [10/10], Loss: 0.2895\n",
            "Validation Loss: 1.0482\n"
          ]
        }
      ]
    }
  ]
}